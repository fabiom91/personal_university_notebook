{
 "cells": [
  {
   "cell_type": "code",
   "execution_count": 2,
   "metadata": {},
   "outputs": [],
   "source": [
    "import os"
   ]
  },
  {
   "cell_type": "code",
   "execution_count": 3,
   "metadata": {},
   "outputs": [],
   "source": [
    "mainPath = '/Users/fabiomagarelli/Documents/UCD_semester_3/'"
   ]
  },
  {
   "cell_type": "code",
   "execution_count": 4,
   "metadata": {},
   "outputs": [],
   "source": [
    "def printMenu(*args):\n",
    "    if not args:\n",
    "        print('#'*39)\n",
    "        print('| WELCOME TO LECTURES ORGANIZER sem.3 | ')\n",
    "    print('#'*39)\n",
    "    print('# MAIN MENU:')\n",
    "    print('# 1 - New Lecture notes')\n",
    "    print('# 2 - Read Lecture')\n",
    "    print('# 0 - Exit')\n",
    "    print('#'*39)\n",
    "    choice = int(input('Enter your choice: '))\n",
    "    while choice not in [1,2,0]:\n",
    "        choice = int(input('Enter your choice: '))\n",
    "    if choice == 0:\n",
    "        return\n",
    "    else:\n",
    "        print('#'*39)\n",
    "        print('# 1 - COMP41690: Android')\n",
    "        print('# 2 - COMP47570: Ubiquitous Comp.')\n",
    "        print('# 3 - COMP47530: Ruby')\n",
    "        print('# 4 - COMP47460: Machine Learning')\n",
    "        print('# 5 - COMP47520: IoT')\n",
    "        print('# 0 - Back to main menu')\n",
    "        print('#'*39)\n",
    "        choice2 = int(input('Enter your choice: '))\n",
    "        modules_dict = {0:0,1:41690,2:47570,3:47530,4:47460,5:47520}\n",
    "        while choice2 not in list(modules_dict.keys()):\n",
    "            choice2 = int(input('Enter your choice: '))\n",
    "        if choice2 == 0:\n",
    "            printMenu()\n",
    "        elif choice == 1:\n",
    "            newLecture(modules_dict[choice2])\n",
    "        elif choice == 2:\n",
    "            readLecture(modules_dict[choice2])\n",
    "        print()\n",
    "        printMenu('notitle')\n",
    "        "
   ]
  },
  {
   "cell_type": "code",
   "execution_count": 5,
   "metadata": {},
   "outputs": [],
   "source": [
    "def openfile(module_path):\n",
    "    os.system('open -a Atom ~%s' % module_path[module_path.find('/Documents'):])"
   ]
  },
  {
   "cell_type": "code",
   "execution_count": 9,
   "metadata": {},
   "outputs": [],
   "source": [
    "def newLecture(module):\n",
    "    module_names = {41690:'Android Programming',47570:'Ubiquitous Computing',47530:'Exploring Ruby',47460:'Machine Learning',47520:'Programming for IoT'}\n",
    "    module_path = str(mainPath + 'Lectures_notes/COMP_%i' % module)\n",
    "    lecture_n = 0\n",
    "    if os.path.exists(module_path):\n",
    "        # r=root, d=directories, f = files\n",
    "#         try:\n",
    "        for r, d, f in os.walk(module_path):\n",
    "            lecture = tuple(f)[-1]\n",
    "            lecture_n = int(lecture[lecture.find('_')+1:lecture.find('.')])\n",
    "            break\n",
    "#         except:\n",
    "#             pass\n",
    "    else:\n",
    "        os.makedirs(module_path)\n",
    "        \n",
    "    lecture_n += 1\n",
    "    file_path = '%s/lecture_%i.md' % (module_path,lecture_n)\n",
    "    with open(file_path, 'w') as file:\n",
    "        file.write('# Lecture %i \\n' % lecture_n)\n",
    "        file.write('#### COMP:%i - %s' % (module,module_names[module]))\n",
    "    openfile(module_path)"
   ]
  },
  {
   "cell_type": "code",
   "execution_count": 10,
   "metadata": {},
   "outputs": [],
   "source": [
    "def readLecture(module):\n",
    "    module_path = str(mainPath + 'Lectures_notes/COMP_%i' % module)\n",
    "    print(module_path)\n",
    "    print(os.path.exists(module_path))\n",
    "    if os.path.exists(module_path):\n",
    "        openfile(module_path)\n",
    "    else:\n",
    "        print('Sorry there are no lectures for this module yet.')"
   ]
  },
  {
   "cell_type": "code",
   "execution_count": 11,
   "metadata": {},
   "outputs": [
    {
     "name": "stdout",
     "output_type": "stream",
     "text": [
      "#######################################\n",
      "| WELCOME TO LECTURES ORGANIZER sem.3 | \n",
      "#######################################\n",
      "# MAIN MENU:\n",
      "# 1 - New Lecture notes\n",
      "# 2 - Read Lecture\n",
      "# 0 - Exit\n",
      "#######################################\n",
      "Enter your choice: 1\n",
      "#######################################\n",
      "# 1 - COMP41690: Android\n",
      "# 2 - COMP47570: Ubiquitous Comp.\n",
      "# 3 - COMP47530: Ruby\n",
      "# 4 - COMP47460: Machine Learning\n",
      "# 5 - COMP47520: IoT\n",
      "# 0 - Back to main menu\n",
      "#######################################\n",
      "Enter your choice: 1\n",
      "\n",
      "#######################################\n",
      "# MAIN MENU:\n",
      "# 1 - New Lecture notes\n",
      "# 2 - Read Lecture\n",
      "# 0 - Exit\n",
      "#######################################\n",
      "Enter your choice: 0\n"
     ]
    }
   ],
   "source": [
    "printMenu()"
   ]
  },
  {
   "cell_type": "code",
   "execution_count": null,
   "metadata": {},
   "outputs": [],
   "source": []
  }
 ],
 "metadata": {
  "kernelspec": {
   "display_name": "Python 3",
   "language": "python",
   "name": "python3"
  },
  "language_info": {
   "codemirror_mode": {
    "name": "ipython",
    "version": 3
   },
   "file_extension": ".py",
   "mimetype": "text/x-python",
   "name": "python",
   "nbconvert_exporter": "python",
   "pygments_lexer": "ipython3",
   "version": "3.7.3"
  }
 },
 "nbformat": 4,
 "nbformat_minor": 2
}
